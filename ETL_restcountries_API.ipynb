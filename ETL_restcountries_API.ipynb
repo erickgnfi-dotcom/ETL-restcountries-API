{
  "nbformat": 4,
  "nbformat_minor": 0,
  "metadata": {
    "colab": {
      "provenance": [],
      "authorship_tag": "ABX9TyPICrv1WkxOeQu9i2qUGj/E",
      "include_colab_link": true
    },
    "kernelspec": {
      "name": "python3",
      "display_name": "Python 3"
    },
    "language_info": {
      "name": "python"
    }
  },
  "cells": [
    {
      "cell_type": "markdown",
      "metadata": {
        "id": "view-in-github",
        "colab_type": "text"
      },
      "source": [
        "<a href=\"https://colab.research.google.com/github/erickgnfi-dotcom/ETL-restcountries-API/blob/main/ETL_restcountries_API.ipynb\" target=\"_parent\"><img src=\"https://colab.research.google.com/assets/colab-badge.svg\" alt=\"Open In Colab\"/></a>"
      ]
    },
    {
      "cell_type": "code",
      "execution_count": null,
      "metadata": {
        "id": "jxgCZCIIK6Il"
      },
      "outputs": [],
      "source": [
        "\"\"\"\n",
        "ETL Pipeline - Rest Country\n",
        "Arquitectura Medallion: Bronze → Silver → Gold\n",
        "\"\"\"\n",
        "\n",
        "import requests\n",
        "import pandas as pd\n",
        "import json\n",
        "from datetime import datetime\n",
        "from typing import Dict, List\n",
        "import time\n",
        "import matplotlib.pyplot as plt\n",
        "import seaborn as sns\n",
        "\n"
      ]
    },
    {
      "cell_type": "code",
      "source": [
        "\n",
        "\n",
        "# ============================================\n",
        "# Extracción de datos raw\n",
        "# ============================================\n",
        "\n",
        "def extract_data(url, api_key=''):\n",
        "\n",
        "  \"\"\"Extrae datos crudos de la API y los almacena sin transformar\"\"\"\n",
        "\n",
        "  print(f\"Extrayendo datos de {url}\")\n",
        "\n",
        "  try:\n",
        "    response = requests.get(f'{url}+{api_key}')\n",
        "    print(f\"✅ Extracción completada\")\n",
        "    return response.json()\n",
        "\n",
        "  except requests.exceptions.RequestException as e:\n",
        "    print(f\"❌ Error en extracción: {e}\")\n",
        "    return {}\n",
        "\n"
      ],
      "metadata": {
        "id": "ROHQLTL2RQ-l"
      },
      "execution_count": null,
      "outputs": []
    },
    {
      "cell_type": "code",
      "source": [
        "url = 'https://restcountries.com/v3.1/all?fields=name,currencies,population,region,area,continents,languages,languages'\n",
        "response = extract_data(url = url)"
      ],
      "metadata": {
        "colab": {
          "base_uri": "https://localhost:8080/"
        },
        "id": "E8e_62NmTSJG",
        "outputId": "0af3db9b-f5ed-4fe7-b7df-8dc17f4c66b9"
      },
      "execution_count": null,
      "outputs": [
        {
          "output_type": "stream",
          "name": "stdout",
          "text": [
            "Extrayendo datos de https://restcountries.com/v3.1/all?fields=name,currencies,population,region,area,continents,languages,languages\n",
            "✅ Extracción completada\n"
          ]
        }
      ]
    },
    {
      "cell_type": "code",
      "source": [
        "\n",
        "\n",
        "# ============================================\n",
        "# CAPA BRONZE - Guarda datos sin transformar\n",
        "# ============================================\n",
        "\n",
        "def save_bronze(filename: str = 'rest_country_bronze.json'):\n",
        "  \"\"\"Guarda datos bronze en formato JSON\"\"\"\n",
        "\n",
        "  with open(filename, 'w') as f:\n",
        "    json.dump(response, f, indent=2)\n",
        "    print(f\"💾 BRONZE: Datos guardados en {filename}\")\n",
        "\n"
      ],
      "metadata": {
        "id": "vytr2t5kTtZ1"
      },
      "execution_count": null,
      "outputs": []
    },
    {
      "cell_type": "code",
      "source": [
        "save_bronze()"
      ],
      "metadata": {
        "colab": {
          "base_uri": "https://localhost:8080/"
        },
        "id": "mfom-RAXjQ80",
        "outputId": "b0be1652-e87a-4f53-a76f-82a69b70de00"
      },
      "execution_count": null,
      "outputs": [
        {
          "output_type": "stream",
          "name": "stdout",
          "text": [
            "💾 BRONZE: Datos guardados en rest_country_bronze.json\n"
          ]
        }
      ]
    },
    {
      "cell_type": "code",
      "source": [
        "# ============================================\n",
        "# CAPA SILVER - Limpieza y normalización\n",
        "# ============================================\n",
        "\n",
        "def SilverLayer(filename: str = 'rest_country_silver.csv'):\n",
        "  \"\"\"Transforma y limpia los datos del bronze layer\"\"\"\n",
        "  print(\"🔸 SILVER: Transformando datos...\")\n",
        "\n",
        "  df = []\n",
        "\n",
        "  for country in response:\n",
        "      country_data = {'Pais': country['name']['common']}\n",
        "\n",
        "      try:\n",
        "          # Intenta accesar a currency name\n",
        "          country_data['Moneda'] = list(country['currencies'].values())[0]['name']\n",
        "      except (KeyError, IndexError):\n",
        "          # Opcion cuando 'currencies' key no se encuentra, está vacío el diccionario,\n",
        "          # o el indice está fuera de rango\n",
        "          country_data['Moneda'] = None # Or some other placeholder like 'N/A'\n",
        "\n",
        "      country_data['Region'] = country['region']\n",
        "\n",
        "      country_data['Area'] = country['area']\n",
        "\n",
        "      country_data['Continente'] = country['continents'][0]\n",
        "      try:\n",
        "        country_data['Idiomas'] = list(country['languages'].values())[0]\n",
        "      except (KeyError, IndexError):\n",
        "          country_data['Idiomas'] = None\n",
        "\n",
        "      country_data['Poblacion'] = country['population']\n",
        "\n",
        "      df.append(country_data)\n",
        "\n",
        "  df = pd.DataFrame(df)\n",
        "\n",
        "\n",
        "  print(\"🔸 SILVER: Transformando estadísticas...\")\n",
        "\n",
        "  df['Densidad_Poblacional'] = df['Poblacion'] / df['Area']\n",
        "\n",
        "\n",
        "  print(f\"✅ SILVER: {len(df)} paises procesados\")\n",
        "\n",
        "  df.to_csv(filename, index=False)\n",
        "\n",
        "  print(f\"💾 SILVER: {filename} guardado\")\n",
        "\n",
        "  return df\n",
        "\n"
      ],
      "metadata": {
        "id": "3DENFbe3RtwH"
      },
      "execution_count": 104,
      "outputs": []
    },
    {
      "cell_type": "code",
      "source": [
        "df = SilverLayer()"
      ],
      "metadata": {
        "colab": {
          "base_uri": "https://localhost:8080/"
        },
        "id": "VFEhmn6EowkG",
        "outputId": "5d3d0a73-26af-4227-bbba-7c5d65029524"
      },
      "execution_count": 106,
      "outputs": [
        {
          "output_type": "stream",
          "name": "stdout",
          "text": [
            "🔸 SILVER: Transformando datos...\n",
            "🔸 SILVER: Transformando estadísticas...\n",
            "✅ SILVER: 250 paises procesados\n",
            "💾 SILVER: rest_country_silver.csv guardado\n"
          ]
        }
      ]
    },
    {
      "cell_type": "code",
      "source": [
        "# ============================================\n",
        "# CAPA GOLD - Agregaciones por Continente\n",
        "# ============================================\n",
        "\n",
        "def gold_layer_continent(filename: str = 'continente_gold.csv'):\n",
        "\n",
        "  pd.set_option('display.float_format', '{:.4f}'.format)\n",
        "\n",
        "  print(\"\\n🔶 GOLD: Creando resumen por continente...\")\n",
        "\n",
        "  df_densidad = pd.DataFrame(df.groupby('Continente')['Densidad_Poblacional'].mean())\n",
        "  df_cuenta_paises = pd.DataFrame(df.groupby('Continente')['Pais'].count())\n",
        "  df_cuenta_idiomas = df.groupby('Continente')['Idiomas'].nunique()\n",
        "  df_complemento = df.groupby('Continente')[['Area', 'Poblacion']].sum()\n",
        "\n",
        "  df_continente = df_densidad.merge(df_cuenta_paises, on='Continente', how='left')\n",
        "  df_continente = df_continente.merge(df_cuenta_idiomas, on='Continente', how='left')\n",
        "  df_continente = df_continente.merge(df_complemento, on='Continente', how='left')\n",
        "\n",
        "  df_continente.reset_index(inplace=True)\n",
        "\n",
        "  df_continente.to_csv(filename, index=False)\n",
        "  print(f\"💾 GOLD: {filename} guardado\")\n",
        "\n",
        "  return df_continente\n",
        "\n",
        "  print(f\"✅ GOLD: Resumen creado con {len(df_continente)} continentes\")\n",
        "\n",
        "\n",
        "\n",
        "# ============================================\n",
        "# CAPA GOLD - Categorias por pais\n",
        "# ============================================\n",
        "\n",
        "def gold_layer_pais(filename: str = 'pais_gold.csv'):\n",
        "\n",
        "  pd.set_option('display.float_format', '{:.4f}'.format)\n",
        "\n",
        "  print(\"\\n🔶 GOLD: Creando categorias por pais...\")\n",
        "\n",
        "  df_pais=df[['Pais','Idiomas','Continente','Densidad_Poblacional','Area']]\n",
        "\n",
        "  df_categoria_densidad = pd.cut(df['Densidad_Poblacional'], bins=[0, 30, 84, 225, float('inf')], labels=['Nulo', 'Bajo', 'Medio', 'Alto'])\n",
        "  df_pais['Categoria_Densidad'] = df_categoria_densidad\n",
        "\n",
        "  df_categoria_area = pd.cut(df['Area'], bins=[1195, 64929, 372726, float('inf')], labels=['Pequeño', 'Mediano', 'Grande'])\n",
        "  df_pais['Categoria_Area'] = df_categoria_area\n",
        "\n",
        "  df_pais.to_csv(filename, index=False)\n",
        "\n",
        "\n",
        "  print(f\"✅ GOLD: Resumen creado con {len(df_continente)} continentes\")\n",
        "\n",
        "  print(f\"💾 GOLD: {filename} guardado\")\n",
        "\n",
        "  return df_pais"
      ],
      "metadata": {
        "id": "A32qoJJvaZkX"
      },
      "execution_count": 107,
      "outputs": []
    },
    {
      "cell_type": "code",
      "source": [
        "df_continente = gold_layer_continent()\n",
        "\n",
        "df_pais = gold_layer_pais()\n"
      ],
      "metadata": {
        "colab": {
          "base_uri": "https://localhost:8080/"
        },
        "id": "xhfh251FvzUa",
        "outputId": "3ec6693e-bf28-4ee3-b198-b6bc72d40ea4"
      },
      "execution_count": 108,
      "outputs": [
        {
          "output_type": "stream",
          "name": "stdout",
          "text": [
            "\n",
            "🔶 GOLD: Creando resumen por continente...\n",
            "💾 GOLD: continente_gold.csv guardado\n",
            "\n",
            "🔶 GOLD: Creando categorias por pais...\n",
            "✅ GOLD: Resumen creado con 7 continentes\n",
            "💾 GOLD: pais_gold.csv guardado\n"
          ]
        },
        {
          "output_type": "stream",
          "name": "stderr",
          "text": [
            "/tmp/ipython-input-940616545.py:44: SettingWithCopyWarning: \n",
            "A value is trying to be set on a copy of a slice from a DataFrame.\n",
            "Try using .loc[row_indexer,col_indexer] = value instead\n",
            "\n",
            "See the caveats in the documentation: https://pandas.pydata.org/pandas-docs/stable/user_guide/indexing.html#returning-a-view-versus-a-copy\n",
            "  df_pais['Categoria_Densidad'] = df_categoria_densidad\n",
            "/tmp/ipython-input-940616545.py:47: SettingWithCopyWarning: \n",
            "A value is trying to be set on a copy of a slice from a DataFrame.\n",
            "Try using .loc[row_indexer,col_indexer] = value instead\n",
            "\n",
            "See the caveats in the documentation: https://pandas.pydata.org/pandas-docs/stable/user_guide/indexing.html#returning-a-view-versus-a-copy\n",
            "  df_pais['Categoria_Area'] = df_categoria_area\n"
          ]
        }
      ]
    },
    {
      "cell_type": "markdown",
      "source": [
        "## Analisis"
      ],
      "metadata": {
        "id": "kSQZrgkFxLjr"
      }
    },
    {
      "cell_type": "code",
      "source": [
        "# Tabla pivote de continentes por niveles de Densidad de poblacion\n",
        "\n",
        "df_pais.pivot_table(index='Continente', columns='Categoria_Densidad', values='Pais', aggfunc='count')"
      ],
      "metadata": {
        "colab": {
          "base_uri": "https://localhost:8080/",
          "height": 355
        },
        "id": "QnsveUCX_QMl",
        "outputId": "4a3f7f62-3622-4588-f859-dc90b368dff3"
      },
      "execution_count": null,
      "outputs": [
        {
          "output_type": "stream",
          "name": "stderr",
          "text": [
            "/tmp/ipython-input-831275726.py:2: FutureWarning: The default value of observed=False is deprecated and will change to observed=True in a future version of pandas. Specify observed=False to silence this warning and retain the current behavior\n",
            "  df_pais.pivot_table(index='Continente', columns='Categoria_Densidad', values='Pais', aggfunc='count')\n"
          ]
        },
        {
          "output_type": "execute_result",
          "data": {
            "text/plain": [
              "Categoria_Densidad  Nulo  Bajo  Medio  Alto\n",
              "Continente                                 \n",
              "Africa                17    19     14     8\n",
              "Antarctica             3     0      0     0\n",
              "Asia                   7    12     12    19\n",
              "Europe                 9    14     19    13\n",
              "North America          5     7     11    18\n",
              "Oceania                9     7      6     5\n",
              "South America         11     3      0     0"
            ],
            "text/html": [
              "\n",
              "  <div id=\"df-0084f4df-a3a2-44f8-8e80-896ffd81749e\" class=\"colab-df-container\">\n",
              "    <div>\n",
              "<style scoped>\n",
              "    .dataframe tbody tr th:only-of-type {\n",
              "        vertical-align: middle;\n",
              "    }\n",
              "\n",
              "    .dataframe tbody tr th {\n",
              "        vertical-align: top;\n",
              "    }\n",
              "\n",
              "    .dataframe thead th {\n",
              "        text-align: right;\n",
              "    }\n",
              "</style>\n",
              "<table border=\"1\" class=\"dataframe\">\n",
              "  <thead>\n",
              "    <tr style=\"text-align: right;\">\n",
              "      <th>Categoria_Densidad</th>\n",
              "      <th>Nulo</th>\n",
              "      <th>Bajo</th>\n",
              "      <th>Medio</th>\n",
              "      <th>Alto</th>\n",
              "    </tr>\n",
              "    <tr>\n",
              "      <th>Continente</th>\n",
              "      <th></th>\n",
              "      <th></th>\n",
              "      <th></th>\n",
              "      <th></th>\n",
              "    </tr>\n",
              "  </thead>\n",
              "  <tbody>\n",
              "    <tr>\n",
              "      <th>Africa</th>\n",
              "      <td>17</td>\n",
              "      <td>19</td>\n",
              "      <td>14</td>\n",
              "      <td>8</td>\n",
              "    </tr>\n",
              "    <tr>\n",
              "      <th>Antarctica</th>\n",
              "      <td>3</td>\n",
              "      <td>0</td>\n",
              "      <td>0</td>\n",
              "      <td>0</td>\n",
              "    </tr>\n",
              "    <tr>\n",
              "      <th>Asia</th>\n",
              "      <td>7</td>\n",
              "      <td>12</td>\n",
              "      <td>12</td>\n",
              "      <td>19</td>\n",
              "    </tr>\n",
              "    <tr>\n",
              "      <th>Europe</th>\n",
              "      <td>9</td>\n",
              "      <td>14</td>\n",
              "      <td>19</td>\n",
              "      <td>13</td>\n",
              "    </tr>\n",
              "    <tr>\n",
              "      <th>North America</th>\n",
              "      <td>5</td>\n",
              "      <td>7</td>\n",
              "      <td>11</td>\n",
              "      <td>18</td>\n",
              "    </tr>\n",
              "    <tr>\n",
              "      <th>Oceania</th>\n",
              "      <td>9</td>\n",
              "      <td>7</td>\n",
              "      <td>6</td>\n",
              "      <td>5</td>\n",
              "    </tr>\n",
              "    <tr>\n",
              "      <th>South America</th>\n",
              "      <td>11</td>\n",
              "      <td>3</td>\n",
              "      <td>0</td>\n",
              "      <td>0</td>\n",
              "    </tr>\n",
              "  </tbody>\n",
              "</table>\n",
              "</div>\n",
              "    <div class=\"colab-df-buttons\">\n",
              "\n",
              "  <div class=\"colab-df-container\">\n",
              "    <button class=\"colab-df-convert\" onclick=\"convertToInteractive('df-0084f4df-a3a2-44f8-8e80-896ffd81749e')\"\n",
              "            title=\"Convert this dataframe to an interactive table.\"\n",
              "            style=\"display:none;\">\n",
              "\n",
              "  <svg xmlns=\"http://www.w3.org/2000/svg\" height=\"24px\" viewBox=\"0 -960 960 960\">\n",
              "    <path d=\"M120-120v-720h720v720H120Zm60-500h600v-160H180v160Zm220 220h160v-160H400v160Zm0 220h160v-160H400v160ZM180-400h160v-160H180v160Zm440 0h160v-160H620v160ZM180-180h160v-160H180v160Zm440 0h160v-160H620v160Z\"/>\n",
              "  </svg>\n",
              "    </button>\n",
              "\n",
              "  <style>\n",
              "    .colab-df-container {\n",
              "      display:flex;\n",
              "      gap: 12px;\n",
              "    }\n",
              "\n",
              "    .colab-df-convert {\n",
              "      background-color: #E8F0FE;\n",
              "      border: none;\n",
              "      border-radius: 50%;\n",
              "      cursor: pointer;\n",
              "      display: none;\n",
              "      fill: #1967D2;\n",
              "      height: 32px;\n",
              "      padding: 0 0 0 0;\n",
              "      width: 32px;\n",
              "    }\n",
              "\n",
              "    .colab-df-convert:hover {\n",
              "      background-color: #E2EBFA;\n",
              "      box-shadow: 0px 1px 2px rgba(60, 64, 67, 0.3), 0px 1px 3px 1px rgba(60, 64, 67, 0.15);\n",
              "      fill: #174EA6;\n",
              "    }\n",
              "\n",
              "    .colab-df-buttons div {\n",
              "      margin-bottom: 4px;\n",
              "    }\n",
              "\n",
              "    [theme=dark] .colab-df-convert {\n",
              "      background-color: #3B4455;\n",
              "      fill: #D2E3FC;\n",
              "    }\n",
              "\n",
              "    [theme=dark] .colab-df-convert:hover {\n",
              "      background-color: #434B5C;\n",
              "      box-shadow: 0px 1px 3px 1px rgba(0, 0, 0, 0.15);\n",
              "      filter: drop-shadow(0px 1px 2px rgba(0, 0, 0, 0.3));\n",
              "      fill: #FFFFFF;\n",
              "    }\n",
              "  </style>\n",
              "\n",
              "    <script>\n",
              "      const buttonEl =\n",
              "        document.querySelector('#df-0084f4df-a3a2-44f8-8e80-896ffd81749e button.colab-df-convert');\n",
              "      buttonEl.style.display =\n",
              "        google.colab.kernel.accessAllowed ? 'block' : 'none';\n",
              "\n",
              "      async function convertToInteractive(key) {\n",
              "        const element = document.querySelector('#df-0084f4df-a3a2-44f8-8e80-896ffd81749e');\n",
              "        const dataTable =\n",
              "          await google.colab.kernel.invokeFunction('convertToInteractive',\n",
              "                                                    [key], {});\n",
              "        if (!dataTable) return;\n",
              "\n",
              "        const docLinkHtml = 'Like what you see? Visit the ' +\n",
              "          '<a target=\"_blank\" href=https://colab.research.google.com/notebooks/data_table.ipynb>data table notebook</a>'\n",
              "          + ' to learn more about interactive tables.';\n",
              "        element.innerHTML = '';\n",
              "        dataTable['output_type'] = 'display_data';\n",
              "        await google.colab.output.renderOutput(dataTable, element);\n",
              "        const docLink = document.createElement('div');\n",
              "        docLink.innerHTML = docLinkHtml;\n",
              "        element.appendChild(docLink);\n",
              "      }\n",
              "    </script>\n",
              "  </div>\n",
              "\n",
              "\n",
              "    <div id=\"df-eea69e0e-a535-4e42-be76-0dfb8497a6a2\">\n",
              "      <button class=\"colab-df-quickchart\" onclick=\"quickchart('df-eea69e0e-a535-4e42-be76-0dfb8497a6a2')\"\n",
              "                title=\"Suggest charts\"\n",
              "                style=\"display:none;\">\n",
              "\n",
              "<svg xmlns=\"http://www.w3.org/2000/svg\" height=\"24px\"viewBox=\"0 0 24 24\"\n",
              "     width=\"24px\">\n",
              "    <g>\n",
              "        <path d=\"M19 3H5c-1.1 0-2 .9-2 2v14c0 1.1.9 2 2 2h14c1.1 0 2-.9 2-2V5c0-1.1-.9-2-2-2zM9 17H7v-7h2v7zm4 0h-2V7h2v10zm4 0h-2v-4h2v4z\"/>\n",
              "    </g>\n",
              "</svg>\n",
              "      </button>\n",
              "\n",
              "<style>\n",
              "  .colab-df-quickchart {\n",
              "      --bg-color: #E8F0FE;\n",
              "      --fill-color: #1967D2;\n",
              "      --hover-bg-color: #E2EBFA;\n",
              "      --hover-fill-color: #174EA6;\n",
              "      --disabled-fill-color: #AAA;\n",
              "      --disabled-bg-color: #DDD;\n",
              "  }\n",
              "\n",
              "  [theme=dark] .colab-df-quickchart {\n",
              "      --bg-color: #3B4455;\n",
              "      --fill-color: #D2E3FC;\n",
              "      --hover-bg-color: #434B5C;\n",
              "      --hover-fill-color: #FFFFFF;\n",
              "      --disabled-bg-color: #3B4455;\n",
              "      --disabled-fill-color: #666;\n",
              "  }\n",
              "\n",
              "  .colab-df-quickchart {\n",
              "    background-color: var(--bg-color);\n",
              "    border: none;\n",
              "    border-radius: 50%;\n",
              "    cursor: pointer;\n",
              "    display: none;\n",
              "    fill: var(--fill-color);\n",
              "    height: 32px;\n",
              "    padding: 0;\n",
              "    width: 32px;\n",
              "  }\n",
              "\n",
              "  .colab-df-quickchart:hover {\n",
              "    background-color: var(--hover-bg-color);\n",
              "    box-shadow: 0 1px 2px rgba(60, 64, 67, 0.3), 0 1px 3px 1px rgba(60, 64, 67, 0.15);\n",
              "    fill: var(--button-hover-fill-color);\n",
              "  }\n",
              "\n",
              "  .colab-df-quickchart-complete:disabled,\n",
              "  .colab-df-quickchart-complete:disabled:hover {\n",
              "    background-color: var(--disabled-bg-color);\n",
              "    fill: var(--disabled-fill-color);\n",
              "    box-shadow: none;\n",
              "  }\n",
              "\n",
              "  .colab-df-spinner {\n",
              "    border: 2px solid var(--fill-color);\n",
              "    border-color: transparent;\n",
              "    border-bottom-color: var(--fill-color);\n",
              "    animation:\n",
              "      spin 1s steps(1) infinite;\n",
              "  }\n",
              "\n",
              "  @keyframes spin {\n",
              "    0% {\n",
              "      border-color: transparent;\n",
              "      border-bottom-color: var(--fill-color);\n",
              "      border-left-color: var(--fill-color);\n",
              "    }\n",
              "    20% {\n",
              "      border-color: transparent;\n",
              "      border-left-color: var(--fill-color);\n",
              "      border-top-color: var(--fill-color);\n",
              "    }\n",
              "    30% {\n",
              "      border-color: transparent;\n",
              "      border-left-color: var(--fill-color);\n",
              "      border-top-color: var(--fill-color);\n",
              "      border-right-color: var(--fill-color);\n",
              "    }\n",
              "    40% {\n",
              "      border-color: transparent;\n",
              "      border-right-color: var(--fill-color);\n",
              "      border-top-color: var(--fill-color);\n",
              "    }\n",
              "    60% {\n",
              "      border-color: transparent;\n",
              "      border-right-color: var(--fill-color);\n",
              "    }\n",
              "    80% {\n",
              "      border-color: transparent;\n",
              "      border-right-color: var(--fill-color);\n",
              "      border-bottom-color: var(--fill-color);\n",
              "    }\n",
              "    90% {\n",
              "      border-color: transparent;\n",
              "      border-bottom-color: var(--fill-color);\n",
              "    }\n",
              "  }\n",
              "</style>\n",
              "\n",
              "      <script>\n",
              "        async function quickchart(key) {\n",
              "          const quickchartButtonEl =\n",
              "            document.querySelector('#' + key + ' button');\n",
              "          quickchartButtonEl.disabled = true;  // To prevent multiple clicks.\n",
              "          quickchartButtonEl.classList.add('colab-df-spinner');\n",
              "          try {\n",
              "            const charts = await google.colab.kernel.invokeFunction(\n",
              "                'suggestCharts', [key], {});\n",
              "          } catch (error) {\n",
              "            console.error('Error during call to suggestCharts:', error);\n",
              "          }\n",
              "          quickchartButtonEl.classList.remove('colab-df-spinner');\n",
              "          quickchartButtonEl.classList.add('colab-df-quickchart-complete');\n",
              "        }\n",
              "        (() => {\n",
              "          let quickchartButtonEl =\n",
              "            document.querySelector('#df-eea69e0e-a535-4e42-be76-0dfb8497a6a2 button');\n",
              "          quickchartButtonEl.style.display =\n",
              "            google.colab.kernel.accessAllowed ? 'block' : 'none';\n",
              "        })();\n",
              "      </script>\n",
              "    </div>\n",
              "\n",
              "    </div>\n",
              "  </div>\n"
            ],
            "application/vnd.google.colaboratory.intrinsic+json": {
              "type": "dataframe",
              "summary": "{\n  \"name\": \"df_pais\",\n  \"rows\": 7,\n  \"fields\": [\n    {\n      \"column\": \"Continente\",\n      \"properties\": {\n        \"dtype\": \"string\",\n        \"num_unique_values\": 7,\n        \"samples\": [\n          \"Africa\",\n          \"Antarctica\",\n          \"Oceania\"\n        ],\n        \"semantic_type\": \"\",\n        \"description\": \"\"\n      }\n    },\n    {\n      \"column\": \"Nulo\",\n      \"properties\": {\n        \"dtype\": \"number\",\n        \"std\": 4,\n        \"min\": 3,\n        \"max\": 17,\n        \"num_unique_values\": 6,\n        \"samples\": [\n          17,\n          3,\n          11\n        ],\n        \"semantic_type\": \"\",\n        \"description\": \"\"\n      }\n    },\n    {\n      \"column\": \"Bajo\",\n      \"properties\": {\n        \"dtype\": \"number\",\n        \"std\": 6,\n        \"min\": 0,\n        \"max\": 19,\n        \"num_unique_values\": 6,\n        \"samples\": [\n          19,\n          0,\n          3\n        ],\n        \"semantic_type\": \"\",\n        \"description\": \"\"\n      }\n    },\n    {\n      \"column\": \"Medio\",\n      \"properties\": {\n        \"dtype\": \"number\",\n        \"std\": 7,\n        \"min\": 0,\n        \"max\": 19,\n        \"num_unique_values\": 6,\n        \"samples\": [\n          14,\n          0,\n          6\n        ],\n        \"semantic_type\": \"\",\n        \"description\": \"\"\n      }\n    },\n    {\n      \"column\": \"Alto\",\n      \"properties\": {\n        \"dtype\": \"number\",\n        \"std\": 7,\n        \"min\": 0,\n        \"max\": 19,\n        \"num_unique_values\": 6,\n        \"samples\": [\n          8,\n          0,\n          5\n        ],\n        \"semantic_type\": \"\",\n        \"description\": \"\"\n      }\n    }\n  ]\n}"
            }
          },
          "metadata": {},
          "execution_count": 96
        }
      ]
    },
    {
      "cell_type": "code",
      "source": [
        "# Heatmap de continentes por niveles de Densidad de poblacion\n",
        "\n",
        "df_heatmap = df_pais.pivot_table(index='Continente', columns='Categoria_Densidad', values='Pais', aggfunc='count')\n",
        "sns.heatmap(df_heatmap,annot=True)\n",
        "plt.show()"
      ],
      "metadata": {
        "colab": {
          "base_uri": "https://localhost:8080/",
          "height": 505
        },
        "id": "uzj5uDWsE26O",
        "outputId": "9f4a861b-7a38-4df1-9433-b8a0d3f02968"
      },
      "execution_count": null,
      "outputs": [
        {
          "output_type": "stream",
          "name": "stderr",
          "text": [
            "/tmp/ipython-input-2526701436.py:3: FutureWarning: The default value of observed=False is deprecated and will change to observed=True in a future version of pandas. Specify observed=False to silence this warning and retain the current behavior\n",
            "  df_heatmap = df_pais.pivot_table(index='Continente', columns='Categoria_Densidad', values='Pais', aggfunc='count')\n"
          ]
        },
        {
          "output_type": "display_data",
          "data": {
            "text/plain": [
              "<Figure size 640x480 with 2 Axes>"
            ],
            "image/png": "[encoded data removed]"
          },
          "metadata": {}
        }
      ]
    },
    {
      "cell_type": "code",
      "source": [
        "\n",
        "# Densidad poblacional por continente\n",
        "\n",
        "plt.bar(df_continente['Continente'].sort_values(), df_continente['Densidad_Poblacional'].sort_values())\n",
        "plt.xticks(rotation=45)\n",
        "plt.ylabel(\"Densidad poblacional\")\n",
        "plt.title(\"Densidad poblacional por continente\")\n",
        "\n",
        "plt.show()"
      ],
      "metadata": {
        "colab": {
          "base_uri": "https://localhost:8080/",
          "height": 520
        },
        "id": "uuc-AyScBD_j",
        "outputId": "2aaa7bab-fca6-4c1b-bb19-81821edde301"
      },
      "execution_count": null,
      "outputs": [
        {
          "output_type": "display_data",
          "data": {
            "text/plain": [
              "<Figure size 640x480 with 1 Axes>"
            ],
            "image/png": "[encoded data removed]"
          },
          "metadata": {}
        }
      ]
    },
    {
      "cell_type": "code",
      "source": [
        "# Idiomas por Densidad poblacional\n",
        "\n",
        "x = df_continente['Densidad_Poblacional']\n",
        "y = df_continente['Idiomas']\n",
        "plt.scatter(x, y, c='blue', s=100) # c=color, s=tamaño\n",
        "plt.xlabel('Densidad poblacional')\n",
        "plt.ylabel('Idiomas')\n",
        "plt.title('Idiomas por Densidad poblacional')\n",
        "\n",
        "plt.show()"
      ],
      "metadata": {
        "colab": {
          "base_uri": "https://localhost:8080/",
          "height": 472
        },
        "id": "ZLYXGF_rFU3H",
        "outputId": "eb126576-3c48-4a54-bf4e-74b7ddc68656"
      },
      "execution_count": null,
      "outputs": [
        {
          "output_type": "display_data",
          "data": {
            "text/plain": [
              "<Figure size 640x480 with 1 Axes>"
            ],
            "image/png": "[encoded data removed]"
          },
          "metadata": {}
        }
      ]
    },
    {
      "cell_type": "code",
      "source": [],
      "metadata": {
        "id": "PXOW7CKRGNiN"
      },
      "execution_count": null,
      "outputs": []
    }
  ]
}